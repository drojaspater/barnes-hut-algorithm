{
 "cells": [
  {
   "cell_type": "code",
   "execution_count": 2,
   "id": "7ef58241",
   "metadata": {},
   "outputs": [
    {
     "name": "stderr",
     "output_type": "stream",
     "text": [
      "/tmp/ipykernel_31958/2392733693.py:22: DeprecationWarning: Starting with ImageIO v3 the behavior of this function will switch to that of iio.v3.imread. To keep the current behavior (and make this warning dissapear) use `import imageio.v2 as imageio` or call `imageio.v2.imread` directly.\n",
      "  images.append(imageio.imread(file_path))\n"
     ]
    }
   ],
   "source": [
    "import imageio\n",
    "import os\n",
    "\n",
    "# Define the directory where your images are\n",
    "image_directory = '/home/pater/Desktop/CosasPater/UNAL/2023-01OctavoSemestre/HerramientasComputacionales/BernesHut/Imagenes'\n",
    "\n",
    "# Get all file names in the directory\n",
    "image_files = os.listdir(image_directory)\n",
    "\n",
    "# Sort the images by name\n",
    "image_files.sort()\n",
    "\n",
    "# Create a list to hold the images\n",
    "images = []\n",
    "\n",
    "# Loop through every image file\n",
    "for image_file in image_files:\n",
    "    # Construct the full file path\n",
    "    file_path = os.path.join(image_directory, image_file)\n",
    "    \n",
    "    # Read the image file and append it to the images list\n",
    "    images.append(imageio.imread(file_path))\n",
    "\n",
    "# Save all images as a GIF\n",
    "imageio.mimsave('/home/pater/Desktop/CosasPater/UNAL/2023-01OctavoSemestre/HerramientasComputacionales/BernesHut/Codigos/Plot/TheFinalGif.gif', images)\n"
   ]
  },
  {
   "cell_type": "code",
   "execution_count": null,
   "id": "721eac9d",
   "metadata": {},
   "outputs": [],
   "source": []
  }
 ],
 "metadata": {
  "kernelspec": {
   "display_name": "Python 3 (ipykernel)",
   "language": "python",
   "name": "python3"
  },
  "language_info": {
   "codemirror_mode": {
    "name": "ipython",
    "version": 3
   },
   "file_extension": ".py",
   "mimetype": "text/x-python",
   "name": "python",
   "nbconvert_exporter": "python",
   "pygments_lexer": "ipython3",
   "version": "3.9.13"
  }
 },
 "nbformat": 4,
 "nbformat_minor": 5
}
